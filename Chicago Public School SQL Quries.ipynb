{
 "cells": [
  {
   "cell_type": "markdown",
   "id": "329c30c4-b383-4e06-ae84-f31a7463f642",
   "metadata": {},
   "source": [
    " ----\n",
    " **Chicago Public School Data Analysis in SQL**\n",
    " \n",
    " ----\n",
    "\n",
    "   <h4>list average of safety score,school type identified as Elementary,Middle, HighSchool</h4>\n",
    "   \n"
   ]
  },
  {
   "cell_type": "markdown",
   "id": "63eb6e2c-9f3c-4ad5-abbd-ff510b29bb07",
   "metadata": {},
   "source": [
    " SELECT AVG(Safety_Score),School_Type FROM Chicago_Public_Schools \n",
    " GROUPBY Elementary_Middle_HighSchool"
   ]
  },
  {
   "cell_type": "markdown",
   "id": "2f64271f-727c-4e88-897b-ce26006152d3",
   "metadata": {},
   "source": [
    "<h4>Total numbers of schools listed</h4>"
   ]
  },
  {
   "cell_type": "code",
   "execution_count": null,
   "id": "84b478b8-4cc2-4030-8e6d-9aadc0f5a97b",
   "metadata": {},
   "outputs": [],
   "source": [
    " Select COUNT(DISTINCT ID) as Total_Number_Of_Schools \n",
    "  FROM Chicago_Public_Schools"
   ]
  },
  {
   "cell_type": "markdown",
   "id": "57fbf822-a1b7-4f60-aaaa-e1014e1ac085",
   "metadata": {},
   "source": [
    "<h4>Total numbers of Elementary,Middle and High School listed</h4>"
   ]
  },
  {
   "cell_type": "code",
   "execution_count": null,
   "id": "d701da5e-0306-4e87-bbbb-e6b46c85ca2c",
   "metadata": {},
   "outputs": [],
   "source": [
    "  Select COUNT(DISTINCT ID) as Total_Number_Of_Schools, Elementary_Middle_High_School as Category\n",
    "  FROM Chicago_Public_Schools\n",
    "  GROUPBY Elementary_Middle_High_School"
   ]
  },
  {
   "cell_type": "markdown",
   "id": "11859999-feb7-456c-af7e-a54eb9b5ef9b",
   "metadata": {},
   "source": [
    "<h4>List the schools of \"Albany Park\" area along with their codes</h4>"
   ]
  },
  {
   "cell_type": "code",
   "execution_count": null,
   "id": "9546ae98-a99d-4173-ad04-f7587476c564",
   "metadata": {},
   "outputs": [],
   "source": [
    "SELECT School_Name,School_Code\n",
    " FROM Chicago_Public_School\n",
    "    WHERE Community_Area_Name=\"Albany Park\""
   ]
  },
  {
   "cell_type": "markdown",
   "id": "6d194414-a0f8-422b-ba8b-e11e29acf10c",
   "metadata": {},
   "source": [
    "<h4>List the School Name with highest Parent Involvement score </h4>"
   ]
  },
  {
   "cell_type": "code",
   "execution_count": null,
   "id": "0867fc97-2cf4-4459-a705-852b9af4c968",
   "metadata": {},
   "outputs": [],
   "source": [
    " SELECT School_Name,Community_Area,Parent_Involvement_Score\n",
    "    FROM Chicago_Public_School \n",
    "    WHERE Parent_Involvement_Score= (SELECT MAX(Parent_Involvement_Score))"
   ]
  },
  {
   "cell_type": "markdown",
   "id": "c0a28175-7931-4f79-8f2d-45fec19bf7fe",
   "metadata": {},
   "source": [
    "<h4>List Top 5 Best Environment Schools</h4>"
   ]
  },
  {
   "cell_type": "code",
   "execution_count": null,
   "id": "6e246b38-27ce-45d0-b956-275142f37a31",
   "metadata": {},
   "outputs": [],
   "source": [
    "  SELECT School_Name,MAX(Environment_Score)\n",
    "    FROM Chicago_Public_School LIMIT 5"
   ]
  },
  {
   "cell_type": "markdown",
   "id": "81f12a00-dc84-4e95-9059-b16d9fe9fd2a",
   "metadata": {},
   "source": [
    "<h4>list the school names, community names and average attendance for communities \n",
    "       with a hardship less than 40.</h4>\n",
    "       "
   ]
  },
  {
   "cell_type": "raw",
   "id": "91df7ea9-805b-41c6-9d1b-eae83ee3fc4b",
   "metadata": {},
   "source": [
    " SELECT cps.Name_Of_School,cps.Community_Name, cps.Average_Attendance from Chicago_Public_Schools as cps\n",
    " RIGHTJOIN Census_Data as cd on cps.Community_Area_Number=cd.Community_Area_Number\n",
    " WHERE cd.Hardship_Index < 40"
   ]
  },
  {
   "cell_type": "markdown",
   "id": "dc4223b6-a3bd-4f49-b995-9f57925fec93",
   "metadata": {},
   "source": [
    "<h4>Creating View with School name and rating</h4>"
   ]
  },
  {
   "cell_type": "raw",
   "id": "55583728-a1dd-43bf-a48c-1d0004137ef3",
   "metadata": {},
   "source": [
    "   CREATE VIEW SchoolAndIcon AS\n",
    "    SELECT Name_OF_School,Leaders_Icon\n",
    "    FROM Chicago_Public_School"
   ]
  },
  {
   "cell_type": "markdown",
   "id": "7d461dc8-ab77-43dd-bfcd-4e9542b05520",
   "metadata": {},
   "source": [
    "<h4>Creating Procedure to update Leaders_Score</h4>\n",
    "   The icon fields are calculated based on the value in the corresponding score field. We need to make sure that when a score field is updated, the icon field is updated too. To do this, we will write a stored procedure that receives the school id and a leaders score as input parameters,"
   ]
  },
  {
   "cell_type": "raw",
   "id": "6d667a83-49d9-4bd9-b04d-b3ab0c98c890",
   "metadata": {},
   "source": [
    "@\n",
    "CREATE OR REPLACE PROCEDURE UPDATE_LEADERS_SCORE (IN in_School_ID INTEGER, IN in_Leader_Score INTEGER)\n",
    " BEGIN \n",
    " \n",
    "       UPDATE CHICAGO_PUBLIC_SCHOOLS\n",
    "       SET \"Leaders_Score\" = in_Leader_Score\n",
    "       WHERE \"School_ID\" = in_School_ID;\n",
    "\n",
    "  END\n",
    "@"
   ]
  },
  {
   "cell_type": "markdown",
   "id": "cc683d55-1bc4-4740-b154-f0d99940b56d",
   "metadata": {},
   "source": [
    "<h4>Displaying Icon against a given range of Leaders_Score field</h4>"
   ]
  },
  {
   "cell_type": "raw",
   "id": "ed57e62c-d3ba-4c10-9d6c-f4879be01b64",
   "metadata": {},
   "source": [
    " To update the Leaders_Icon field using the following information\n",
    " 1-(80-99): Very Strong\n",
    " 2-(60-79): Strong\n",
    " 3-(40-59): Average\n",
    " 4-(20-39): Weak\n",
    " 5-(0-19) : Very Weak\n",
    "\n",
    "CREATE OR REPLACE PROCEDURE UPDATE_LEADERS_SCORE (IN in_School_ID INTEGER, IN in_Leader_Score INTEGER)\n",
    "  \n",
    "   BEGIN \n",
    "\n",
    "      UPDATE CHICAGO_PUBLIC_SCHOOLS\n",
    "          SET \"Leaders_Score\" = in_Leader_Score\n",
    "              WHERE \"School_ID\" = in_School_ID;\n",
    "              \n",
    "        IF in_Leader_Score > 0 AND in_Leader_Score < 20 THEN\n",
    "\t      \tUPDATE CHICAGO_PUBLIC_SCHOOLS\n",
    "\t        SET \"Leaders_Icon\" = 'Very Weak';\n",
    "\t    ELSEIF in_Leader_Score < 40 THEN\n",
    "\t       \tUPDATE CHICAGO_PUBLIC_SCHOOLS\n",
    "\t\t\t\tSET \"Leaders_Icon\" = 'Weak';\t\n",
    "\t    ELSEIF in_Leader_Score < 60 THEN\n",
    "\t       \tUPDATE CHICAGO_PUBLIC_SCHOOLS\n",
    "\t\t\t\tSET \"Leaders_Icon\" = 'Average';\n",
    "\t    ELSEIF in_Leader_Score < 80 THEN\n",
    "\t       \tUPDATE CHICAGO_PUBLIC_SCHOOLS\n",
    "\t\t\t\tSET \"Leaders_Icon\" = 'Strong';\n",
    "\t    ELSEIF in_Leader_Score < 100 THEN\n",
    "\t       \tUPDATE CHICAGO_PUBLIC_SCHOOLS\n",
    "\t\t\t\tSET \"Leaders_Icon\" = 'Very Strong';\n",
    "\t   \tEND IF;\n",
    "\t\t\n",
    "\tEND@"
   ]
  },
  {
   "cell_type": "markdown",
   "id": "6cc90fd3-0238-4ada-8edb-aafc3a0f4c21",
   "metadata": {},
   "source": [
    "<h4>To Call the procedure</h4>"
   ]
  },
  {
   "cell_type": "markdown",
   "id": "c232eaa5-8065-42ac-be78-e3b56a9c440a",
   "metadata": {},
   "source": [
    "CALL UPDATE_LEADERS_SCORE(134,56)"
   ]
  }
 ],
 "metadata": {
  "kernelspec": {
   "display_name": "Python",
   "language": "python",
   "name": "conda-env-python-py"
  },
  "language_info": {
   "codemirror_mode": {
    "name": "ipython",
    "version": 3
   },
   "file_extension": ".py",
   "mimetype": "text/x-python",
   "name": "python",
   "nbconvert_exporter": "python",
   "pygments_lexer": "ipython3",
   "version": "3.6.13"
  }
 },
 "nbformat": 4,
 "nbformat_minor": 5
}

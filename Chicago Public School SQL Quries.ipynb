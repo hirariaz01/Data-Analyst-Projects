{
 "cells": [
  {
   "cell_type": "markdown",
   "id": "329c30c4-b383-4e06-ae84-f31a7463f642",
   "metadata": {},
   "source": [
    " ----\n",
    " \n",
    " # Chicago Public School Data Analysis in SQL\n",
    " \n",
    " ----\n",
    "\n",
    "   <h4>list average of safety score,school type identified as Elementary,Middle, HighSchool</h4>\n",
    "   \n"
   ]
  },
  {
   "cell_type": "markdown",
   "id": "63eb6e2c-9f3c-4ad5-abbd-ff510b29bb07",
   "metadata": {},
   "source": [
    " SELECT AVG(Safety_Score),School_Type FROM Chicago_Public_Schools \n",
    " GROUPBY Elementary_Middle_HighSchool"
   ]
  },
  {
   "cell_type": "markdown",
   "id": "2f64271f-727c-4e88-897b-ce26006152d3",
   "metadata": {},
   "source": [
    "<h4>Total numbers of schools listed</h4>"
   ]
  },
  {
   "cell_type": "markdown",
   "id": "e181f164-ac65-40ec-b890-370316ce525e",
   "metadata": {},
   "source": [
    " Select COUNT(DISTINCT ID) as Total_Number_Of_Schools \n",
    "  FROM Chicago_Public_Schools"
   ]
  },
  {
   "cell_type": "markdown",
   "id": "57fbf822-a1b7-4f60-aaaa-e1014e1ac085",
   "metadata": {},
   "source": [
    "<h4>Total numbers of Elementary,Middle and High School listed</h4>"
   ]
  },
  {
   "cell_type": "markdown",
   "id": "2727f8be-66f7-42c7-b690-cd5e0df2235b",
   "metadata": {},
   "source": [
    "  Select COUNT(DISTINCT ID) as Total_Number_Of_Schools, Elementary_Middle_High_School as Category\n",
    "  FROM Chicago_Public_Schools\n",
    "  GROUPBY Elementary_Middle_High_School"
   ]
  },
  {
   "cell_type": "markdown",
   "id": "11859999-feb7-456c-af7e-a54eb9b5ef9b",
   "metadata": {},
   "source": [
    "<h4>List the schools of \"Albany Park\" area along with their codes</h4>"
   ]
  },
  {
   "cell_type": "markdown",
   "id": "31e2bd5e-867f-4f0e-94d3-1c474b739c6c",
   "metadata": {},
   "source": [
    "SELECT School_Name,School_Code\n",
    " FROM Chicago_Public_School\n",
    "    WHERE Community_Area_Name=\"Albany Park\""
   ]
  },
  {
   "cell_type": "markdown",
   "id": "6d194414-a0f8-422b-ba8b-e11e29acf10c",
   "metadata": {},
   "source": [
    "<h4>List the School Name with highest Parent Involvement score </h4>"
   ]
  },
  {
   "cell_type": "markdown",
   "id": "216330c4-ef01-450c-a4ae-a83b53cf58f6",
   "metadata": {},
   "source": [
    " SELECT School_Name,Community_Area,Parent_Involvement_Score\n",
    "    FROM Chicago_Public_School \n",
    "    WHERE Parent_Involvement_Score= (SELECT MAX(Parent_Involvement_Score))"
   ]
  },
  {
   "cell_type": "markdown",
   "id": "c0a28175-7931-4f79-8f2d-45fec19bf7fe",
   "metadata": {},
   "source": [
    "<h4>List Top 5 Best Environment Schools</h4>"
   ]
  },
  {
   "cell_type": "markdown",
   "id": "f263c3ba-6fa3-4382-aed4-4b9a78bb1696",
   "metadata": {},
   "source": [
    "  SELECT School_Name,MAX(Environment_Score)\n",
    "    FROM Chicago_Public_School LIMIT 5"
   ]
  },
  {
   "cell_type": "markdown",
   "id": "81f12a00-dc84-4e95-9059-b16d9fe9fd2a",
   "metadata": {},
   "source": [
    "<h4>list the school names, community names and average attendance for communities \n",
    "       with a hardship less than 40.</h4>\n",
    "       "
   ]
  },
  {
   "cell_type": "markdown",
   "id": "e9c3bad2-5ef6-4029-b9af-8d1be64c8a02",
   "metadata": {},
   "source": [
    " SELECT cps.Name_Of_School,cps.Community_Name, cps.Average_Attendance from Chicago_Public_Schools as cps\n",
    " RIGHTJOIN Census_Data as cd on cps.Community_Area_Number=cd.Community_Area_Number\n",
    " WHERE cd.Hardship_Index < 40"
   ]
  },
  {
   "cell_type": "markdown",
   "id": "dc4223b6-a3bd-4f49-b995-9f57925fec93",
   "metadata": {},
   "source": [
    "<h4>Creating View with School name and rating</h4>"
   ]
  },
  {
   "cell_type": "markdown",
   "id": "271e2880-e8f7-4810-9ab1-98310818719a",
   "metadata": {},
   "source": [
    "   CREATE VIEW SchoolAndIcon AS\n",
    "    SELECT Name_OF_School,Leaders_Icon\n",
    "    FROM Chicago_Public_School"
   ]
  },
  {
   "cell_type": "markdown",
   "id": "7d461dc8-ab77-43dd-bfcd-4e9542b05520",
   "metadata": {},
   "source": [
    "<h4>Creating Procedure to update Leaders_Score</h4>\n",
    "   The icon fields are calculated based on the value in the corresponding score field. We need to make sure that when a score field is updated, the icon field is updated too. To do this, we will write a stored procedure that receives the school id and a leaders score as input parameters,"
   ]
  },
  {
   "cell_type": "markdown",
   "id": "262673fa-766e-495a-9369-6deb4c04ad14",
   "metadata": {},
   "source": [
    "@\n",
    "CREATE OR REPLACE PROCEDURE UPDATE_LEADERS_SCORE (IN in_School_ID INTEGER, IN in_Leader_Score INTEGER)\n",
    " BEGIN \n",
    " \n",
    "       UPDATE CHICAGO_PUBLIC_SCHOOLS\n",
    "       SET \"Leaders_Score\" = in_Leader_Score\n",
    "       WHERE \"School_ID\" = in_School_ID;\n",
    "\n",
    "  END\n",
    "@"
   ]
  },
  {
   "cell_type": "markdown",
   "id": "cc683d55-1bc4-4740-b154-f0d99940b56d",
   "metadata": {},
   "source": [
    "<h4>Displaying Icon against a given range of Leaders_Score field</h4>"
   ]
  },
  {
   "cell_type": "markdown",
   "id": "42922305-ebd7-4243-b3aa-343b148a49fd",
   "metadata": {},
   "source": [
    " To update the Leaders_Icon field using the following information\n",
    " 1-(80-99): Very Strong\n",
    " 2-(60-79): Strong\n",
    " 3-(40-59): Average\n",
    " 4-(20-39): Weak\n",
    " 5-(0-19) : Very Weak\n",
    "\n",
    "CREATE OR REPLACE PROCEDURE UPDATE_LEADERS_SCORE (IN in_School_ID INTEGER, IN in_Leader_Score INTEGER)\n",
    "  \n",
    "   BEGIN \n",
    "\n",
    "      UPDATE CHICAGO_PUBLIC_SCHOOLS\n",
    "          SET \"Leaders_Score\" = in_Leader_Score\n",
    "              WHERE \"School_ID\" = in_School_ID;\n",
    "              \n",
    "        IF in_Leader_Score > 0 AND in_Leader_Score < 20 THEN\n",
    "\t      \tUPDATE CHICAGO_PUBLIC_SCHOOLS\n",
    "\t        SET \"Leaders_Icon\" = 'Very Weak';\n",
    "\t    ELSEIF in_Leader_Score < 40 THEN\n",
    "\t       \tUPDATE CHICAGO_PUBLIC_SCHOOLS\n",
    "\t\t\t\tSET \"Leaders_Icon\" = 'Weak';\t\n",
    "\t    ELSEIF in_Leader_Score < 60 THEN\n",
    "\t       \tUPDATE CHICAGO_PUBLIC_SCHOOLS\n",
    "\t\t\t\tSET \"Leaders_Icon\" = 'Average';\n",
    "\t    ELSEIF in_Leader_Score < 80 THEN\n",
    "\t       \tUPDATE CHICAGO_PUBLIC_SCHOOLS\n",
    "\t\t\t\tSET \"Leaders_Icon\" = 'Strong';\n",
    "\t    ELSEIF in_Leader_Score < 100 THEN\n",
    "\t       \tUPDATE CHICAGO_PUBLIC_SCHOOLS\n",
    "\t\t\t\tSET \"Leaders_Icon\" = 'Very Strong';\n",
    "\t   \tEND IF;\n",
    "\t\t\n",
    "\tEND@"
   ]
  },
  {
   "cell_type": "markdown",
   "id": "6cc90fd3-0238-4ada-8edb-aafc3a0f4c21",
   "metadata": {},
   "source": [
    "<h4>To Call the procedure</h4>"
   ]
  },
  {
   "cell_type": "markdown",
   "id": "c232eaa5-8065-42ac-be78-e3b56a9c440a",
   "metadata": {},
   "source": [
    "CALL UPDATE_LEADERS_SCORE(134,56)"
   ]
  }
 ],
 "metadata": {
  "kernelspec": {
   "display_name": "Python",
   "language": "python",
   "name": "conda-env-python-py"
  },
  "language_info": {
   "codemirror_mode": {
    "name": "ipython",
    "version": 3
   },
   "file_extension": ".py",
   "mimetype": "text/x-python",
   "name": "python",
   "nbconvert_exporter": "python",
   "pygments_lexer": "ipython3",
   "version": "3.6.13"
  }
 },
 "nbformat": 4,
 "nbformat_minor": 5
}

{
 "cells": [
  {
   "cell_type": "markdown",
   "id": "aaf5173d-450e-4a86-84e3-cf74f3e9cc29",
   "metadata": {},
   "source": [
    "---\n",
    "# Technology Trend Analysis in IBM Cognos Analytics\n",
    "---"
   ]
  },
  {
   "cell_type": "markdown",
   "id": "161d81df-4bfc-4c44-920b-8f18137e567a",
   "metadata": {},
   "source": [
    "**INTRODUCTION**\n",
    "\n",
    "<h4>Purpose:</h4>\n",
    "This dashboard presents an analysis of a sample of the 2019 Stack Overflow Developer Survey, to identify trends in emerging skills. Key areas include:\n",
    "\n",
    "- A review of current technology usage\n",
    "- A look at future technology trends\n",
    "- Insights on current demographic data\n",
    "\n",
    "<h4>Stack Holders:</h4> This report is aimed at Data Analyst and Data Science Managers, and Hiring Managers looking to find the right people to join their companies, as well as the essential skills they should be looking for\n",
    "\n",
    "<h4> Content of Dashboard:</h4>\n",
    "The dashboard shares insights on current technology trends, future technology trends and key demographics\n"
   ]
  },
  {
   "cell_type": "markdown",
   "id": "3261227b-0208-4b9f-9aae-506e374865fa",
   "metadata": {},
   "source": [
    "**DATA COLLECTION**\n",
    "\n",
    "The data was provided in excel file.Data for this report was collected from a sample of the 2019 Stack Overflow Developer Survey.\n"
   ]
  },
  {
   "cell_type": "markdown",
   "id": "2692f18f-9a8e-465c-887c-e422c427c588",
   "metadata": {},
   "source": [
    "**DASHBOARD**\n",
    "\n",
    "The data was prepared by finding and removing missing values, finding and removing duplicates and added to IBM Cognos Analytics for analysis.\n",
    "\n",
    "**click on picture to view complete dashboard**"
   ]
  },
  {
   "cell_type": "markdown",
   "id": "25e41700-b349-4a5d-8db5-a3f4dbfc9686",
   "metadata": {},
   "source": [
    "[<img width=\"954\" alt=\"dashboard\" src=\"https://user-images.githubusercontent.com/25719763/122962281-1b07ec00-d33a-11eb-96df-f5ca23009d09.png\">](https://dataplatform.cloud.ibm.com/dashboards/80bd800c-fd4a-43b9-a21c-b606efb2a900/view/061ce63b19bf15c864e3d4e4079d7a542e362659b0bbd00bd6857b4906642097a83c4095c8274f0bda400c30a5bf175c98)"
   ]
  },
  {
   "cell_type": "markdown",
   "id": "eb2586e7-9fcf-4075-8687-6634d59cb6f1",
   "metadata": {},
   "source": [
    "**CONCLUSION**\n",
    "\n",
    "- The stage is set for developers, who are quickly becoming the most sought after individuals in the world\n",
    "- A renewed focus and deliberate action is required to address the gender gap and get more women involved\n",
    "- Immediate steps should be taken to prepare for the inevitable supply issues of skilled developers in developing countries and regions\n",
    "-  Programming languages and databases of choice in future will drift towards ML and AL enabled applications,\n",
    " especially those enabled by mobile and IoT experiences"
   ]
  }
 ],
 "metadata": {
  "kernelspec": {
   "display_name": "Python",
   "language": "python",
   "name": "conda-env-python-py"
  },
  "language_info": {
   "codemirror_mode": {
    "name": "ipython",
    "version": 3
   },
   "file_extension": ".py",
   "mimetype": "text/x-python",
   "name": "python",
   "nbconvert_exporter": "python",
   "pygments_lexer": "ipython3",
   "version": "3.6.13"
  }
 },
 "nbformat": 4,
 "nbformat_minor": 5
}
